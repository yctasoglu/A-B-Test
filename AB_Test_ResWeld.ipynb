{
 "cells": [
  {
   "cell_type": "markdown",
   "id": "80e02168-c089-47a0-9f84-98394051a708",
   "metadata": {},
   "source": [
    "# 1. Designing our experiment"
   ]
  },
  {
   "cell_type": "markdown",
   "id": "a0e9d3f4-4adc-4441-accf-8db51ec826e2",
   "metadata": {},
   "source": [
    "### The sample size we need is estimated through something called Power analysis, and it depends on a few factors:"
   ]
  },
  {
   "cell_type": "markdown",
   "id": "e445bc5f-ec15-4b41-8db3-b7febddf2b7b",
   "metadata": {},
   "source": [
    "##### The sample size we need is estimated through something called Power analysis, and it depends on a few factors:\n",
    "##### Alpha value (α) — The critical value we set earlier to 0.05\n",
    "##### Effect size — How big of a difference we expect there to be between the conversion rates\n",
    "\n",
    "##### Since our team would be happy with a difference of 10%, we can use 13% and 23% to calculate the effect size we expect."
   ]
  },
  {
   "cell_type": "code",
   "execution_count": 1,
   "id": "552f720f-c3f0-4153-b50d-8516247b454d",
   "metadata": {},
   "outputs": [],
   "source": [
    "# Packages imports\n",
    "import numpy as np\n",
    "import pandas as pd\n",
    "import matplotlib as mpl\n",
    "import matplotlib.pyplot as plt\n",
    "import seaborn as sns\n",
    "from math import ceil\n",
    "\n",
    "%matplotlib inline\n",
    "\n",
    "# Some plot styling preferences\n",
    "plt.style.use('seaborn-whitegrid')\n",
    "font = {'family' : 'Helvetica',\n",
    "        'weight' : 'bold',\n",
    "        'size'   : 14}\n",
    "\n",
    "mpl.rc('font', **font)"
   ]
  },
  {
   "cell_type": "code",
   "execution_count": 2,
   "id": "42683820-010e-4f3b-b4f2-bbb5ce5a3594",
   "metadata": {},
   "outputs": [
    {
     "data": {
      "text/plain": [
       "802"
      ]
     },
     "execution_count": 2,
     "metadata": {},
     "output_type": "execute_result"
    }
   ],
   "source": [
    "import scipy.stats as stats\n",
    "import statsmodels.stats.api as sms\n",
    "from math import ceil\n",
    "effect_size = sms.proportion_effectsize(0.13, 0.23)    # Calculating effect size based on our expected rates\n",
    "required_n = sms.NormalIndPower().solve_power(effect_size, power=0.8, alpha=0.00001, ratio=1)                                                  # Calculating sample size needed\n",
    "required_n = ceil(required_n);required_n                         # Rounding up to next whole number                          "
   ]
  },
  {
   "cell_type": "code",
   "execution_count": 3,
   "id": "18425b47-ccca-4053-b885-3fb58fe30610",
   "metadata": {},
   "outputs": [
    {
     "name": "stdout",
     "output_type": "stream",
     "text": [
      "Sample Size: 5536.000\n"
     ]
    }
   ],
   "source": [
    "from statsmodels.stats.power import TTestIndPower# parameters for power analysis # effect_size has to be positive\n",
    "effect = 0.1\n",
    "alpha = 0.00001\n",
    "power = 0.8 # perform power analysis \n",
    "analysis = TTestIndPower()\n",
    "result = analysis.solve_power(effect, power = power, nobs1= None, ratio = 1.0, alpha = alpha)\n",
    "print('Sample Size: %.3f' % round(result))"
   ]
  },
  {
   "cell_type": "markdown",
   "id": "91023235-00c7-4d6a-82da-036a1734b93a",
   "metadata": {},
   "source": [
    "##### Having set the power parameter to 0.8 in practice means that if there exists an actual difference in conversion rate between our designs, assuming the difference is the one we estimated (13% vs. 15%), we have about 80% chance to detect it as statistically significant in our test with the sample size we calculated."
   ]
  },
  {
   "cell_type": "code",
   "execution_count": 4,
   "id": "bf0ecadb-2a2b-48f5-9b9e-dd72d998b025",
   "metadata": {},
   "outputs": [
    {
     "data": {
      "text/html": [
       "<div>\n",
       "<style scoped>\n",
       "    .dataframe tbody tr th:only-of-type {\n",
       "        vertical-align: middle;\n",
       "    }\n",
       "\n",
       "    .dataframe tbody tr th {\n",
       "        vertical-align: top;\n",
       "    }\n",
       "\n",
       "    .dataframe thead th {\n",
       "        text-align: right;\n",
       "    }\n",
       "</style>\n",
       "<table border=\"1\" class=\"dataframe\">\n",
       "  <thead>\n",
       "    <tr style=\"text-align: right;\">\n",
       "      <th></th>\n",
       "      <th>PN_133501070_Result_Left_SinkInPoint</th>\n",
       "      <th>AI Enabled</th>\n",
       "    </tr>\n",
       "  </thead>\n",
       "  <tbody>\n",
       "    <tr>\n",
       "      <th>0</th>\n",
       "      <td>310.0000</td>\n",
       "      <td>0</td>\n",
       "    </tr>\n",
       "    <tr>\n",
       "      <th>1</th>\n",
       "      <td>331.0000</td>\n",
       "      <td>0</td>\n",
       "    </tr>\n",
       "    <tr>\n",
       "      <th>2</th>\n",
       "      <td>329.1992</td>\n",
       "      <td>0</td>\n",
       "    </tr>\n",
       "    <tr>\n",
       "      <th>3</th>\n",
       "      <td>324.9990</td>\n",
       "      <td>0</td>\n",
       "    </tr>\n",
       "    <tr>\n",
       "      <th>4</th>\n",
       "      <td>329.0996</td>\n",
       "      <td>0</td>\n",
       "    </tr>\n",
       "  </tbody>\n",
       "</table>\n",
       "</div>"
      ],
      "text/plain": [
       "   PN_133501070_Result_Left_SinkInPoint  AI Enabled\n",
       "0                              310.0000           0\n",
       "1                              331.0000           0\n",
       "2                              329.1992           0\n",
       "3                              324.9990           0\n",
       "4                              329.0996           0"
      ]
     },
     "execution_count": 4,
     "metadata": {},
     "output_type": "execute_result"
    }
   ],
   "source": [
    "df = pd.read_excel(r'ResweldAB.xlsx')\n",
    "\n",
    "df.head()"
   ]
  },
  {
   "cell_type": "code",
   "execution_count": 5,
   "id": "1d5b6a99-a420-43cc-b29d-ef9c7a48bd2b",
   "metadata": {},
   "outputs": [],
   "source": [
    "df['PartStatus'] = 0"
   ]
  },
  {
   "cell_type": "code",
   "execution_count": 6,
   "id": "beff807c-2729-49ad-a565-fb307a0a416b",
   "metadata": {},
   "outputs": [],
   "source": [
    "df.loc[((df.PN_133501070_Result_Left_SinkInPoint >= 325) & (df.PN_133501070_Result_Left_SinkInPoint <= 375)) , \"PartStatus\"] = 1"
   ]
  },
  {
   "cell_type": "code",
   "execution_count": 7,
   "id": "e8147bb6-c692-48b9-a5ad-79eadfcf7f48",
   "metadata": {},
   "outputs": [
    {
     "data": {
      "text/plain": [
       "1    97292\n",
       "0     9938\n",
       "Name: PartStatus, dtype: int64"
      ]
     },
     "execution_count": 7,
     "metadata": {},
     "output_type": "execute_result"
    }
   ],
   "source": [
    "df['PartStatus'].value_counts()"
   ]
  },
  {
   "cell_type": "code",
   "execution_count": 8,
   "id": "1e8a8e43-0fdf-4c44-9876-48ecc30cd904",
   "metadata": {},
   "outputs": [
    {
     "data": {
      "text/html": [
       "<div>\n",
       "<style scoped>\n",
       "    .dataframe tbody tr th:only-of-type {\n",
       "        vertical-align: middle;\n",
       "    }\n",
       "\n",
       "    .dataframe tbody tr th {\n",
       "        vertical-align: top;\n",
       "    }\n",
       "\n",
       "    .dataframe thead th {\n",
       "        text-align: right;\n",
       "    }\n",
       "</style>\n",
       "<table border=\"1\" class=\"dataframe\">\n",
       "  <thead>\n",
       "    <tr style=\"text-align: right;\">\n",
       "      <th></th>\n",
       "      <th>PN_133501070_Result_Left_SinkInPoint</th>\n",
       "      <th>AI Enabled</th>\n",
       "      <th>PartStatus</th>\n",
       "    </tr>\n",
       "  </thead>\n",
       "  <tbody>\n",
       "    <tr>\n",
       "      <th>0</th>\n",
       "      <td>310.0000</td>\n",
       "      <td>0</td>\n",
       "      <td>0</td>\n",
       "    </tr>\n",
       "    <tr>\n",
       "      <th>1</th>\n",
       "      <td>331.0000</td>\n",
       "      <td>0</td>\n",
       "      <td>1</td>\n",
       "    </tr>\n",
       "    <tr>\n",
       "      <th>2</th>\n",
       "      <td>329.1992</td>\n",
       "      <td>0</td>\n",
       "      <td>1</td>\n",
       "    </tr>\n",
       "    <tr>\n",
       "      <th>3</th>\n",
       "      <td>324.9990</td>\n",
       "      <td>0</td>\n",
       "      <td>0</td>\n",
       "    </tr>\n",
       "    <tr>\n",
       "      <th>4</th>\n",
       "      <td>329.0996</td>\n",
       "      <td>0</td>\n",
       "      <td>1</td>\n",
       "    </tr>\n",
       "  </tbody>\n",
       "</table>\n",
       "</div>"
      ],
      "text/plain": [
       "   PN_133501070_Result_Left_SinkInPoint  AI Enabled  PartStatus\n",
       "0                              310.0000           0           0\n",
       "1                              331.0000           0           1\n",
       "2                              329.1992           0           1\n",
       "3                              324.9990           0           0\n",
       "4                              329.0996           0           1"
      ]
     },
     "execution_count": 8,
     "metadata": {},
     "output_type": "execute_result"
    }
   ],
   "source": [
    "df.head()"
   ]
  },
  {
   "cell_type": "code",
   "execution_count": 9,
   "id": "5cfebcff-cd8a-4877-8dad-2301018468dc",
   "metadata": {},
   "outputs": [
    {
     "name": "stdout",
     "output_type": "stream",
     "text": [
      "<class 'pandas.core.frame.DataFrame'>\n",
      "RangeIndex: 107230 entries, 0 to 107229\n",
      "Data columns (total 3 columns):\n",
      " #   Column                                Non-Null Count   Dtype  \n",
      "---  ------                                --------------   -----  \n",
      " 0   PN_133501070_Result_Left_SinkInPoint  107230 non-null  float64\n",
      " 1   AI Enabled                            107230 non-null  int64  \n",
      " 2   PartStatus                            107230 non-null  int64  \n",
      "dtypes: float64(1), int64(2)\n",
      "memory usage: 2.5 MB\n"
     ]
    }
   ],
   "source": [
    "df.info()"
   ]
  },
  {
   "cell_type": "markdown",
   "id": "f8f90c7d-23ae-4e79-bb90-2466357a5e76",
   "metadata": {},
   "source": [
    "### Column Definitions"
   ]
  },
  {
   "cell_type": "markdown",
   "id": "44d3fcda-b2de-431c-b976-6a948e4caef1",
   "metadata": {},
   "source": [
    "#####  \tPN_133501070_Result_Left_SinkInPoint \n",
    "#####   AI Enabled : AI was on \n",
    "#####   In Limits= 0 -- no || 1 -->yes PartStatus"
   ]
  },
  {
   "cell_type": "code",
   "execution_count": 10,
   "id": "07b3461c-6944-4e4e-bce4-8c464a44ee82",
   "metadata": {},
   "outputs": [
    {
     "data": {
      "text/html": [
       "<div>\n",
       "<style scoped>\n",
       "    .dataframe tbody tr th:only-of-type {\n",
       "        vertical-align: middle;\n",
       "    }\n",
       "\n",
       "    .dataframe tbody tr th {\n",
       "        vertical-align: top;\n",
       "    }\n",
       "\n",
       "    .dataframe thead th {\n",
       "        text-align: right;\n",
       "    }\n",
       "</style>\n",
       "<table border=\"1\" class=\"dataframe\">\n",
       "  <thead>\n",
       "    <tr style=\"text-align: right;\">\n",
       "      <th></th>\n",
       "      <th>PN_133501070_Result_Left_SinkInPoint</th>\n",
       "      <th>AI Enabled</th>\n",
       "      <th>PartStatus</th>\n",
       "    </tr>\n",
       "  </thead>\n",
       "  <tbody>\n",
       "    <tr>\n",
       "      <th>0</th>\n",
       "      <td>310.0000</td>\n",
       "      <td>0</td>\n",
       "      <td>0</td>\n",
       "    </tr>\n",
       "    <tr>\n",
       "      <th>1</th>\n",
       "      <td>331.0000</td>\n",
       "      <td>0</td>\n",
       "      <td>1</td>\n",
       "    </tr>\n",
       "    <tr>\n",
       "      <th>2</th>\n",
       "      <td>329.1992</td>\n",
       "      <td>0</td>\n",
       "      <td>1</td>\n",
       "    </tr>\n",
       "    <tr>\n",
       "      <th>3</th>\n",
       "      <td>324.9990</td>\n",
       "      <td>0</td>\n",
       "      <td>0</td>\n",
       "    </tr>\n",
       "    <tr>\n",
       "      <th>4</th>\n",
       "      <td>329.0996</td>\n",
       "      <td>0</td>\n",
       "      <td>1</td>\n",
       "    </tr>\n",
       "  </tbody>\n",
       "</table>\n",
       "</div>"
      ],
      "text/plain": [
       "   PN_133501070_Result_Left_SinkInPoint  AI Enabled  PartStatus\n",
       "0                              310.0000           0           0\n",
       "1                              331.0000           0           1\n",
       "2                              329.1992           0           1\n",
       "3                              324.9990           0           0\n",
       "4                              329.0996           0           1"
      ]
     },
     "execution_count": 10,
     "metadata": {},
     "output_type": "execute_result"
    }
   ],
   "source": [
    "df.head()"
   ]
  },
  {
   "cell_type": "markdown",
   "id": "87e56a6f-5e71-45e9-b082-57b222eb083b",
   "metadata": {},
   "source": [
    "### Sampling"
   ]
  },
  {
   "cell_type": "code",
   "execution_count": 11,
   "id": "484977c0-e497-4837-a3c9-9c79df5ff8af",
   "metadata": {},
   "outputs": [],
   "source": [
    "control_sample = df[df['AI Enabled'] == 1].sample(n=required_n, random_state=22)\n",
    "treatment_sample = df[df['AI Enabled'] == 0].sample(n=required_n, random_state=22)\n",
    "ab_test = pd.concat([control_sample, treatment_sample], axis=0)\n",
    "ab_test.reset_index(drop=True, inplace=True)"
   ]
  },
  {
   "cell_type": "code",
   "execution_count": 12,
   "id": "13ae8683-7bb4-4244-ab1d-4f1a1dd7c1f0",
   "metadata": {},
   "outputs": [
    {
     "name": "stdout",
     "output_type": "stream",
     "text": [
      "<class 'pandas.core.frame.DataFrame'>\n",
      "RangeIndex: 1604 entries, 0 to 1603\n",
      "Data columns (total 3 columns):\n",
      " #   Column                                Non-Null Count  Dtype  \n",
      "---  ------                                --------------  -----  \n",
      " 0   PN_133501070_Result_Left_SinkInPoint  1604 non-null   float64\n",
      " 1   AI Enabled                            1604 non-null   int64  \n",
      " 2   PartStatus                            1604 non-null   int64  \n",
      "dtypes: float64(1), int64(2)\n",
      "memory usage: 37.7 KB\n"
     ]
    }
   ],
   "source": [
    "ab_test.info()"
   ]
  },
  {
   "cell_type": "code",
   "execution_count": 13,
   "id": "c8ffb399-337c-4e42-8e83-5b6c3e3cb2b4",
   "metadata": {},
   "outputs": [
    {
     "data": {
      "text/plain": [
       "1    802\n",
       "0    802\n",
       "Name: AI Enabled, dtype: int64"
      ]
     },
     "execution_count": 13,
     "metadata": {},
     "output_type": "execute_result"
    }
   ],
   "source": [
    "ab_test['AI Enabled'].value_counts()"
   ]
  },
  {
   "cell_type": "code",
   "execution_count": 14,
   "id": "2f05af5c-a035-4549-b8fc-609c57273aa0",
   "metadata": {},
   "outputs": [],
   "source": [
    "ab_test_index = ab_test.reset_index()"
   ]
  },
  {
   "cell_type": "markdown",
   "id": "e36d45a1-f1ce-497b-96a1-ce49893bd169",
   "metadata": {},
   "source": [
    "### 3. Visualising the results"
   ]
  },
  {
   "cell_type": "code",
   "execution_count": 15,
   "id": "f12c4893-8d76-4171-864f-5fd7f9054cc5",
   "metadata": {},
   "outputs": [
    {
     "data": {
      "text/html": [
       "<style type=\"text/css\">\n",
       "</style>\n",
       "<table id=\"T_bc4b0_\">\n",
       "  <thead>\n",
       "    <tr>\n",
       "      <th class=\"blank level0\" >&nbsp;</th>\n",
       "      <th class=\"col_heading level0 col0\" >conversion_rate</th>\n",
       "      <th class=\"col_heading level0 col1\" >std_deviation</th>\n",
       "      <th class=\"col_heading level0 col2\" >std_error</th>\n",
       "    </tr>\n",
       "    <tr>\n",
       "      <th class=\"index_name level0\" >AI Enabled</th>\n",
       "      <th class=\"blank col0\" >&nbsp;</th>\n",
       "      <th class=\"blank col1\" >&nbsp;</th>\n",
       "      <th class=\"blank col2\" >&nbsp;</th>\n",
       "    </tr>\n",
       "  </thead>\n",
       "  <tbody>\n",
       "    <tr>\n",
       "      <th id=\"T_bc4b0_level0_row0\" class=\"row_heading level0 row0\" >0</th>\n",
       "      <td id=\"T_bc4b0_row0_col0\" class=\"data row0 col0\" >0.855</td>\n",
       "      <td id=\"T_bc4b0_row0_col1\" class=\"data row0 col1\" >0.352</td>\n",
       "      <td id=\"T_bc4b0_row0_col2\" class=\"data row0 col2\" >0.012</td>\n",
       "    </tr>\n",
       "    <tr>\n",
       "      <th id=\"T_bc4b0_level0_row1\" class=\"row_heading level0 row1\" >1</th>\n",
       "      <td id=\"T_bc4b0_row1_col0\" class=\"data row1 col0\" >0.983</td>\n",
       "      <td id=\"T_bc4b0_row1_col1\" class=\"data row1 col1\" >0.131</td>\n",
       "      <td id=\"T_bc4b0_row1_col2\" class=\"data row1 col2\" >0.005</td>\n",
       "    </tr>\n",
       "  </tbody>\n",
       "</table>\n"
      ],
      "text/plain": [
       "<pandas.io.formats.style.Styler at 0x235ed4d7c40>"
      ]
     },
     "execution_count": 15,
     "metadata": {},
     "output_type": "execute_result"
    }
   ],
   "source": [
    "conversion_rates = ab_test.groupby('AI Enabled')['PartStatus']\n",
    "std_p = lambda x: np.std(x, ddof=0)              # Std. deviation of the proportion\n",
    "se_p = lambda x: stats.sem(x, ddof=0)            # Std. error of the proportion (std / sqrt(n))\n",
    "conversion_rates = conversion_rates.agg([np.mean, std_p, se_p])\n",
    "conversion_rates.columns = ['conversion_rate', 'std_deviation', 'std_error']\n",
    "conversion_rates.style.format('{:.3f}')"
   ]
  },
  {
   "cell_type": "markdown",
   "id": "5973669a-128a-40c0-aae4-e4bbc6aa4da9",
   "metadata": {},
   "source": [
    "##### Judging by the stats above, it does look like our two designs performed very similarly, with our new design performing slightly better, approx. 84.8% vs. 98.3% conversion rate."
   ]
  },
  {
   "cell_type": "code",
   "execution_count": 16,
   "id": "0e6d1533-e2b2-4c4a-b9af-9a3e1720ac6a",
   "metadata": {},
   "outputs": [
    {
     "name": "stderr",
     "output_type": "stream",
     "text": [
      "findfont: Font family ['Helvetica'] not found. Falling back to DejaVu Sans.\n",
      "findfont: Font family ['Helvetica'] not found. Falling back to DejaVu Sans.\n",
      "findfont: Font family ['Helvetica'] not found. Falling back to DejaVu Sans.\n"
     ]
    },
    {
     "data": {
      "image/png": "[encoded data removed]",
      "text/plain": [
       "<Figure size 576x432 with 1 Axes>"
      ]
     },
     "metadata": {},
     "output_type": "display_data"
    }
   ],
   "source": [
    "plt.figure(figsize=(8,6))\n",
    "sns.barplot(x=ab_test['AI Enabled'], y=ab_test['PartStatus'], ci=False)\n",
    "plt.title('Part rate by group', pad=20)\n",
    "plt.xlabel('Group', labelpad=15)\n",
    "plt.ylabel('Converted (proportion)', labelpad=15);"
   ]
  },
  {
   "cell_type": "markdown",
   "id": "2d38a3e8-68ff-4232-8855-cf10d1b20705",
   "metadata": {},
   "source": [
    "##### So… the treatment group's value is higher. Is this difference statistically significant?"
   ]
  },
  {
   "cell_type": "markdown",
   "id": "8ff4f1a2-e8a8-46db-a2b5-7fe14b8ee4cb",
   "metadata": {},
   "source": [
    "### Testing the hypothesis"
   ]
  },
  {
   "cell_type": "code",
   "execution_count": 17,
   "id": "c87146f9-11b7-40ab-a535-18c91a19ecf6",
   "metadata": {},
   "outputs": [
    {
     "name": "stdout",
     "output_type": "stream",
     "text": [
      "z statistic: -9.33\n",
      "p-value: 0.000\n",
      "ci 95% for control group: [0.831, 0.880]\n",
      "ci 95% for treatment group: [0.973, 0.992]\n"
     ]
    }
   ],
   "source": [
    "from statsmodels.stats.proportion import proportions_ztest, proportion_confint\n",
    "control_results = ab_test[ab_test['AI Enabled'] == 0]['PartStatus']\n",
    "treatment_results = ab_test[ab_test['AI Enabled'] == 1]['PartStatus']\n",
    "n_con = control_results.count()\n",
    "n_treat = treatment_results.count()\n",
    "successes = [control_results.sum(), treatment_results.sum()]\n",
    "nobs = [n_con, n_treat]\n",
    "z_stat, pval = proportions_ztest(successes, nobs=nobs)\n",
    "(lower_con, lower_treat), (upper_con, upper_treat) = proportion_confint(successes, nobs=nobs, alpha=0.05)\n",
    "print(f'z statistic: {z_stat:.2f}')\n",
    "print(f'p-value: {pval:.3f}')\n",
    "print(f'ci 95% for control group: [{lower_con:.3f}, {upper_con:.3f}]')\n",
    "print(f'ci 95% for treatment group: [{lower_treat:.3f}, {upper_treat:.3f}]')"
   ]
  },
  {
   "cell_type": "markdown",
   "id": "15644c3f-0948-4071-ba9b-393afaa75f73",
   "metadata": {},
   "source": [
    "##### Since our p-value=0.000 is way below our α=0.05 threshold, we can reject the Null hypothesis Hₒ, which means that our new design perform significantly better than our old one"
   ]
  },
  {
   "cell_type": "code",
   "execution_count": null,
   "id": "4ad4e5c2-1b50-4bf4-9455-cb9b45f47d1f",
   "metadata": {},
   "outputs": [],
   "source": []
  }
 ],
 "metadata": {
  "kernelspec": {
   "display_name": "env",
   "language": "python",
   "name": "env"
  },
  "language_info": {
   "codemirror_mode": {
    "name": "ipython",
    "version": 3
   },
   "file_extension": ".py",
   "mimetype": "text/x-python",
   "name": "python",
   "nbconvert_exporter": "python",
   "pygments_lexer": "ipython3",
   "version": "3.10.0"
  }
 },
 "nbformat": 4,
 "nbformat_minor": 5
}
